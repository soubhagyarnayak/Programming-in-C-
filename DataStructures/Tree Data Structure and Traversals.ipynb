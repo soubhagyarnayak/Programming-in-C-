{
 "cells": [
  {
   "cell_type": "markdown",
   "metadata": {},
   "source": [
    "# Tree Data Structure\n",
    "Tree is a special form of graph. Each node in a tree will have a value and a set of children nodes.\n",
    "We can represent a tree in the following code."
   ]
  },
  {
   "cell_type": "code",
   "execution_count": 1,
   "metadata": {
    "collapsed": true
   },
   "outputs": [],
   "source": [
    "class TreeNode<T>{\n",
    "    public T value;\n",
    "    public List<T> children;\n",
    "}"
   ]
  },
  {
   "cell_type": "markdown",
   "metadata": {},
   "source": [
    "Each tree has a root node which can be considered as the start. Root node does not have any parent node."
   ]
  },
  {
   "cell_type": "markdown",
   "metadata": {},
   "source": [
    "## Tree Traversals\n",
    "Like Graph, we can traverse a tree in 2 ways BFS and DFS.\n",
    "\n",
    "### BFS (Breadth First Search)\n",
    "This is also known as level order traversal for a binary tree when we start traversing from the root.\n",
    "\n",
    "### DFS (Depth First Search)\n"
   ]
  },
  {
   "cell_type": "markdown",
   "metadata": {},
   "source": [
    "# Binary Tree Data Structure\n",
    "Binary tree is a special case of Tree where each node can have maximum 2 children. \n",
    "We can represent a generic binary tree in the following code."
   ]
  },
  {
   "cell_type": "code",
   "execution_count": 4,
   "metadata": {
    "collapsed": false
   },
   "outputs": [],
   "source": [
    "class GenericBinaryTreeNode<T>{\n",
    "    public T value;\n",
    "    public GenericBinaryTreeNode<T> left;\n",
    "    public GenericBinaryTreeNode<T> right;\n",
    "}"
   ]
  },
  {
   "cell_type": "markdown",
   "metadata": {},
   "source": [
    "For illustrations, we will simplify the structure and avoid generics. We will use int datatype for value."
   ]
  },
  {
   "cell_type": "code",
   "execution_count": 5,
   "metadata": {
    "collapsed": true
   },
   "outputs": [],
   "source": [
    "class BinaryTreeNode{\n",
    "    public int value;\n",
    "    public BinaryTreeNode left;\n",
    "    public BinaryTreeNode right;\n",
    "    public BinaryTreeNode(int value){\n",
    "        this.value = value;\n",
    "    }\n",
    "}"
   ]
  },
  {
   "cell_type": "markdown",
   "metadata": {},
   "source": [
    "Let us have the following sample tree for illustration."
   ]
  },
  {
   "cell_type": "code",
   "execution_count": 23,
   "metadata": {
    "collapsed": true
   },
   "outputs": [],
   "source": [
    "BinaryTreeNode root = new BinaryTreeNode(45);\n",
    "root.left = new BinaryTreeNode(25);\n",
    "root.right = new BinaryTreeNode(65);\n",
    "root.left.left = new BinaryTreeNode(12);\n",
    "root.left.right = new BinaryTreeNode(27);\n",
    "root.left.right.left = new BinaryTreeNode(26);\n",
    "root.right.left = new BinaryTreeNode(50);\n",
    "root.right.right = new BinaryTreeNode(80);\n",
    "root.right.left.right = new BinaryTreeNode(56); "
   ]
  },
  {
   "cell_type": "markdown",
   "metadata": {},
   "source": [
    "## Binary Tree Traversals\n",
    "\n",
    "We can traverse in some special ways in a binary tree.\n",
    "\n",
    "### Inorder Traversal (left-root-right)\n"
   ]
  },
  {
   "cell_type": "code",
   "execution_count": 12,
   "metadata": {
    "collapsed": false
   },
   "outputs": [
    {
     "name": "stdout",
     "output_type": "stream",
     "text": [
      "12->25->26->27->45->50->56->65->80\r\n"
     ]
    }
   ],
   "source": [
    "List<int> InorderTraversal(BinaryTreeNode root){\n",
    "    List<int> result = new List<int>();\n",
    "    if(root!=null){\n",
    "        TraverseInorder(root,result);\n",
    "    }\n",
    "    return result;\n",
    "}\n",
    "void TraverseInorder(BinaryTreeNode node, List<int> result){\n",
    "    if(node.left!=null){\n",
    "        TraverseInorder(node.left,result);\n",
    "    }\n",
    "    result.Add(node.value);\n",
    "    if(node.right!=null){\n",
    "        TraverseInorder(node.right,result);\n",
    "    }\n",
    "}\n",
    "List<int> inorderEntries = InorderTraversal(root);\n",
    "Console.WriteLine(string.Join(\"->\",inorderEntries));"
   ]
  },
  {
   "cell_type": "markdown",
   "metadata": {},
   "source": [
    "We have used recursion to implement inorder traversal. Recursion is easy to implement, but can cause stackoverflow. So we may consider using stacks to avoid recursion."
   ]
  },
  {
   "cell_type": "markdown",
   "metadata": {},
   "source": [
    "### Pre order Traversal (root-left-right)\n",
    "We can modify the above program to have preorder traversal easily as shown below."
   ]
  },
  {
   "cell_type": "code",
   "execution_count": 16,
   "metadata": {
    "collapsed": false
   },
   "outputs": [
    {
     "name": "stdout",
     "output_type": "stream",
     "text": [
      "45->25->12->27->26->65->50->56->80\r\n"
     ]
    }
   ],
   "source": [
    "List<int> PreorderTraversal(BinaryTreeNode root){\n",
    "    List<int> result = new List<int>();\n",
    "    if(root!=null){\n",
    "        TraversePreorder(root,result);\n",
    "    }\n",
    "    return result;\n",
    "}\n",
    "void TraversePreorder(BinaryTreeNode node, List<int> result){\n",
    "    result.Add(node.value);\n",
    "    if(node.left!=null){\n",
    "        TraversePreorder(node.left,result);\n",
    "    }\n",
    "    if(node.right!=null){\n",
    "        TraversePreorder(node.right,result);\n",
    "    }\n",
    "}\n",
    "List<int> preorderEntries = PreorderTraversal(root);\n",
    "Console.WriteLine(string.Join(\"->\",preorderEntries));"
   ]
  },
  {
   "cell_type": "markdown",
   "metadata": {},
   "source": [
    "### Postorder Traversal (left-right-root)"
   ]
  },
  {
   "cell_type": "code",
   "execution_count": 20,
   "metadata": {
    "collapsed": false
   },
   "outputs": [
    {
     "name": "stdout",
     "output_type": "stream",
     "text": [
      "12->26->27->25->56->50->80->65->45\r\n"
     ]
    }
   ],
   "source": [
    "List<int> PostorderTraversal(BinaryTreeNode root){\n",
    "    List<int> result = new List<int>();\n",
    "    if(root!=null){\n",
    "        TraversePostorder(root,result);\n",
    "    }\n",
    "    return result;\n",
    "}\n",
    "void TraversePostorder(BinaryTreeNode node, List<int> result){\n",
    "    if(node.left!=null){\n",
    "        TraversePostorder(node.left,result);\n",
    "    }\n",
    "    if(node.right!=null){\n",
    "        TraversePostorder(node.right,result);\n",
    "    }\n",
    "    result.Add(node.value);\n",
    "}\n",
    "List<int> postorderEntries = PostorderTraversal(root);\n",
    "Console.WriteLine(string.Join(\"->\",postorderEntries));"
   ]
  },
  {
   "cell_type": "markdown",
   "metadata": {},
   "source": [
    "### Morris Traversal\n",
    "Morris traversal does not have any additional space complexity. It does not use stack or recusion. It modifies the tree to have the traversal. The modified datastructure is known as Threaded Binary Tree.\n",
    "It also generates the inorder traversal result."
   ]
  },
  {
   "cell_type": "code",
   "execution_count": 25,
   "metadata": {
    "collapsed": false
   },
   "outputs": [
    {
     "name": "stdout",
     "output_type": "stream",
     "text": [
      "12->25->26->27->45->50->56->65->80\r\n"
     ]
    }
   ],
   "source": [
    "List<int> MorrisTraversal(BinaryTreeNode root){\n",
    "    List<int> result = new List<int>();\n",
    "    BinaryTreeNode current = root;\n",
    "    while(current!=null){\n",
    "        if(current.left==null){\n",
    "            result.Add(current.value);\n",
    "            current = current.right;\n",
    "        } else {\n",
    "            BinaryTreeNode next = current.left;\n",
    "            while(next.right!=null && next.right!=current){ //find the right-most node of the left child\n",
    "                next = next.right;\n",
    "            }\n",
    "            if(next.right==null){\n",
    "                next.right = current;\n",
    "                current = current.left;\n",
    "            }\n",
    "            else{ //we will do the corrections to the modified tree\n",
    "                result.Add(current.value);\n",
    "                next.right = null;\n",
    "                current = current.right;\n",
    "            }\n",
    "        }\n",
    "    }\n",
    "    return result;\n",
    "}\n",
    "List<int> morrisEntries = MorrisTraversal(root);\n",
    "Console.WriteLine(string.Join(\"->\",morrisEntries));"
   ]
  },
  {
   "cell_type": "code",
   "execution_count": null,
   "metadata": {
    "collapsed": true
   },
   "outputs": [],
   "source": []
  }
 ],
 "metadata": {
  "kernelspec": {
   "display_name": ".NET (C#)",
   "language": "C#",
   "name": ".net-csharp"
  },
  "language_info": {
   "file_extension": ".cs",
   "mimetype": "text/x-csharp",
   "name": "C#",
   "pygments_lexer": "csharp",
   "version": "8.0"
  }
 },
 "nbformat": 4,
 "nbformat_minor": 0
}
